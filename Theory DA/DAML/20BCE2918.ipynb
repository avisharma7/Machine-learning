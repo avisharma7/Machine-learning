{
 "cells": [
  {
   "cell_type": "markdown",
   "id": "ebaca091-28f3-4f94-a8bb-d53c0350a781",
   "metadata": {},
   "source": [
    "# Machine learning Theory DA: Comparing two algorithms on any dataset: \n",
    "# Dataset used: https://github.com/avisharma7/Machine-learning/tree/main/Theory%20DA"
   ]
  },
  {
   "cell_type": "markdown",
   "id": "98cb01c5-9cad-48c2-bc09-7248680527e2",
   "metadata": {},
   "source": [
    "# Aviral Sharma 20BCE2918"
   ]
  },
  {
   "cell_type": "markdown",
   "id": "998014f9-0758-495e-a009-52d6e0c00e42",
   "metadata": {},
   "source": [
    "# Linear Regression on Vegetable prices 2020 dataset\n"
   ]
  },
  {
   "cell_type": "code",
   "execution_count": 58,
   "id": "69dd37ed-9ad0-4084-a1a3-4968c5944222",
   "metadata": {},
   "outputs": [],
   "source": [
    "# Step 1: Import necessary libraries\n",
    "import pandas as pd\n",
    "import numpy as np\n",
    "from sklearn.model_selection import train_test_split\n",
    "from sklearn.linear_model import LinearRegression\n",
    "import matplotlib.pyplot as plt\n",
    "from sklearn.metrics import mean_squared_error, mean_absolute_error, r2_score\n"
   ]
  },
  {
   "cell_type": "code",
   "execution_count": 62,
   "id": "123a79a9-174f-4b92-9c3a-9d4a3559f812",
   "metadata": {},
   "outputs": [
    {
     "data": {
      "text/html": [
       "<div>\n",
       "<style scoped>\n",
       "    .dataframe tbody tr th:only-of-type {\n",
       "        vertical-align: middle;\n",
       "    }\n",
       "\n",
       "    .dataframe tbody tr th {\n",
       "        vertical-align: top;\n",
       "    }\n",
       "\n",
       "    .dataframe thead th {\n",
       "        text-align: right;\n",
       "    }\n",
       "</style>\n",
       "<table border=\"1\" class=\"dataframe\">\n",
       "  <thead>\n",
       "    <tr style=\"text-align: right;\">\n",
       "      <th></th>\n",
       "      <th>Vegetable</th>\n",
       "      <th>Form</th>\n",
       "      <th>RetailPrice</th>\n",
       "      <th>RetailPriceUnit</th>\n",
       "      <th>Yield</th>\n",
       "      <th>CupEquivalentSize</th>\n",
       "      <th>CupEquivalentUnit</th>\n",
       "      <th>CupEquivalentPrice</th>\n",
       "    </tr>\n",
       "  </thead>\n",
       "  <tbody>\n",
       "    <tr>\n",
       "      <th>0</th>\n",
       "      <td>Acorn squash</td>\n",
       "      <td>Fresh</td>\n",
       "      <td>1.1804</td>\n",
       "      <td>per pound</td>\n",
       "      <td>0.4586</td>\n",
       "      <td>0.4519</td>\n",
       "      <td>pounds</td>\n",
       "      <td>1.1633</td>\n",
       "    </tr>\n",
       "    <tr>\n",
       "      <th>1</th>\n",
       "      <td>Artichoke</td>\n",
       "      <td>Fresh</td>\n",
       "      <td>2.1913</td>\n",
       "      <td>per pound</td>\n",
       "      <td>0.3750</td>\n",
       "      <td>0.3858</td>\n",
       "      <td>pounds</td>\n",
       "      <td>2.2545</td>\n",
       "    </tr>\n",
       "    <tr>\n",
       "      <th>2</th>\n",
       "      <td>Artichoke</td>\n",
       "      <td>Canned</td>\n",
       "      <td>3.4119</td>\n",
       "      <td>per pound</td>\n",
       "      <td>0.6500</td>\n",
       "      <td>0.3858</td>\n",
       "      <td>pounds</td>\n",
       "      <td>2.0251</td>\n",
       "    </tr>\n",
       "    <tr>\n",
       "      <th>3</th>\n",
       "      <td>Asparagus</td>\n",
       "      <td>Fresh</td>\n",
       "      <td>2.7576</td>\n",
       "      <td>per pound</td>\n",
       "      <td>0.4938</td>\n",
       "      <td>0.3968</td>\n",
       "      <td>pounds</td>\n",
       "      <td>2.2159</td>\n",
       "    </tr>\n",
       "    <tr>\n",
       "      <th>4</th>\n",
       "      <td>Asparagus</td>\n",
       "      <td>Canned</td>\n",
       "      <td>3.1269</td>\n",
       "      <td>per pound</td>\n",
       "      <td>0.6500</td>\n",
       "      <td>0.3968</td>\n",
       "      <td>pounds</td>\n",
       "      <td>1.9090</td>\n",
       "    </tr>\n",
       "    <tr>\n",
       "      <th>...</th>\n",
       "      <td>...</td>\n",
       "      <td>...</td>\n",
       "      <td>...</td>\n",
       "      <td>...</td>\n",
       "      <td>...</td>\n",
       "      <td>...</td>\n",
       "      <td>...</td>\n",
       "      <td>...</td>\n",
       "    </tr>\n",
       "    <tr>\n",
       "      <th>88</th>\n",
       "      <td>Tomatoes</td>\n",
       "      <td>Canned</td>\n",
       "      <td>1.0175</td>\n",
       "      <td>per pound</td>\n",
       "      <td>1.0000</td>\n",
       "      <td>0.5401</td>\n",
       "      <td>pounds</td>\n",
       "      <td>0.5496</td>\n",
       "    </tr>\n",
       "    <tr>\n",
       "      <th>89</th>\n",
       "      <td>Turnip greens</td>\n",
       "      <td>Fresh</td>\n",
       "      <td>2.4176</td>\n",
       "      <td>per pound</td>\n",
       "      <td>0.7500</td>\n",
       "      <td>0.3197</td>\n",
       "      <td>pounds</td>\n",
       "      <td>1.0304</td>\n",
       "    </tr>\n",
       "    <tr>\n",
       "      <th>90</th>\n",
       "      <td>Turnip greens</td>\n",
       "      <td>Canned</td>\n",
       "      <td>1.0429</td>\n",
       "      <td>per pound</td>\n",
       "      <td>0.6500</td>\n",
       "      <td>0.3527</td>\n",
       "      <td>pounds</td>\n",
       "      <td>0.5660</td>\n",
       "    </tr>\n",
       "    <tr>\n",
       "      <th>91</th>\n",
       "      <td>Turnip greens</td>\n",
       "      <td>Frozen</td>\n",
       "      <td>1.9451</td>\n",
       "      <td>per pound</td>\n",
       "      <td>0.7760</td>\n",
       "      <td>0.3527</td>\n",
       "      <td>pounds</td>\n",
       "      <td>0.8841</td>\n",
       "    </tr>\n",
       "    <tr>\n",
       "      <th>92</th>\n",
       "      <td>Zucchini</td>\n",
       "      <td>Fresh</td>\n",
       "      <td>1.5489</td>\n",
       "      <td>per pound</td>\n",
       "      <td>0.7695</td>\n",
       "      <td>0.3968</td>\n",
       "      <td>pounds</td>\n",
       "      <td>0.7987</td>\n",
       "    </tr>\n",
       "  </tbody>\n",
       "</table>\n",
       "<p>93 rows × 8 columns</p>\n",
       "</div>"
      ],
      "text/plain": [
       "        Vegetable    Form  RetailPrice RetailPriceUnit   Yield  \\\n",
       "0    Acorn squash   Fresh       1.1804       per pound  0.4586   \n",
       "1       Artichoke   Fresh       2.1913       per pound  0.3750   \n",
       "2       Artichoke  Canned       3.4119       per pound  0.6500   \n",
       "3       Asparagus   Fresh       2.7576       per pound  0.4938   \n",
       "4       Asparagus  Canned       3.1269       per pound  0.6500   \n",
       "..            ...     ...          ...             ...     ...   \n",
       "88       Tomatoes  Canned       1.0175       per pound  1.0000   \n",
       "89  Turnip greens   Fresh       2.4176       per pound  0.7500   \n",
       "90  Turnip greens  Canned       1.0429       per pound  0.6500   \n",
       "91  Turnip greens  Frozen       1.9451       per pound  0.7760   \n",
       "92       Zucchini   Fresh       1.5489       per pound  0.7695   \n",
       "\n",
       "    CupEquivalentSize CupEquivalentUnit  CupEquivalentPrice  \n",
       "0              0.4519            pounds              1.1633  \n",
       "1              0.3858            pounds              2.2545  \n",
       "2              0.3858            pounds              2.0251  \n",
       "3              0.3968            pounds              2.2159  \n",
       "4              0.3968            pounds              1.9090  \n",
       "..                ...               ...                 ...  \n",
       "88             0.5401            pounds              0.5496  \n",
       "89             0.3197            pounds              1.0304  \n",
       "90             0.3527            pounds              0.5660  \n",
       "91             0.3527            pounds              0.8841  \n",
       "92             0.3968            pounds              0.7987  \n",
       "\n",
       "[93 rows x 8 columns]"
      ]
     },
     "execution_count": 62,
     "metadata": {},
     "output_type": "execute_result"
    }
   ],
   "source": [
    "# Step 2: Load the dataset\n",
    "vegetable_data = pd.read_csv('Vegetable prices 2020.csv')\n",
    "vegetable_data"
   ]
  },
  {
   "cell_type": "code",
   "execution_count": 63,
   "id": "aff9ac07-3afe-4a5d-a527-094e42406193",
   "metadata": {},
   "outputs": [
    {
     "name": "stdout",
     "output_type": "stream",
     "text": [
      "<class 'pandas.core.frame.DataFrame'>\n",
      "RangeIndex: 93 entries, 0 to 92\n",
      "Data columns (total 8 columns):\n",
      " #   Column              Non-Null Count  Dtype  \n",
      "---  ------              --------------  -----  \n",
      " 0   Vegetable           93 non-null     object \n",
      " 1   Form                93 non-null     object \n",
      " 2   RetailPrice         93 non-null     float64\n",
      " 3   RetailPriceUnit     93 non-null     object \n",
      " 4   Yield               93 non-null     float64\n",
      " 5   CupEquivalentSize   93 non-null     float64\n",
      " 6   CupEquivalentUnit   93 non-null     object \n",
      " 7   CupEquivalentPrice  93 non-null     float64\n",
      "dtypes: float64(4), object(4)\n",
      "memory usage: 5.9+ KB\n",
      "None\n",
      "       RetailPrice      Yield  CupEquivalentSize  CupEquivalentPrice\n",
      "count    93.000000  93.000000          93.000000           93.000000\n",
      "mean      1.888555   0.959997           0.338635            0.743654\n",
      "std       1.009724   0.494943           0.066544            0.470496\n",
      "min       0.668200   0.375000           0.154300            0.202100\n",
      "25%       1.161800   0.650000           0.297600            0.478500\n",
      "50%       1.676300   0.881800           0.341700            0.622800\n",
      "75%       2.191300   0.970200           0.385800            0.853000\n",
      "max       6.704500   2.539700           0.540100            2.574200\n"
     ]
    }
   ],
   "source": [
    "# Step 3: Explore the dataset\n",
    "# Check for any missing values and basic statistics\n",
    "print(vegetable_data.info())\n",
    "print(vegetable_data.describe())"
   ]
  },
  {
   "cell_type": "code",
   "execution_count": 64,
   "id": "249ded88-478c-47f3-839f-d8144943228a",
   "metadata": {},
   "outputs": [],
   "source": [
    "# Step 4: Select features and target variable\n",
    "# Assuming we want to predict 'RetailPrice' based on 'CupEquivalentPrice'\n",
    "X = vegetable_data[['CupEquivalentPrice']] #independent variable\n",
    "y = vegetable_data['RetailPrice']   #dependent variable"
   ]
  },
  {
   "cell_type": "code",
   "execution_count": 65,
   "id": "ae908869-8bd7-4faa-8672-95394215fc9e",
   "metadata": {},
   "outputs": [
    {
     "data": {
      "text/html": [
       "<div>\n",
       "<style scoped>\n",
       "    .dataframe tbody tr th:only-of-type {\n",
       "        vertical-align: middle;\n",
       "    }\n",
       "\n",
       "    .dataframe tbody tr th {\n",
       "        vertical-align: top;\n",
       "    }\n",
       "\n",
       "    .dataframe thead th {\n",
       "        text-align: right;\n",
       "    }\n",
       "</style>\n",
       "<table border=\"1\" class=\"dataframe\">\n",
       "  <thead>\n",
       "    <tr style=\"text-align: right;\">\n",
       "      <th></th>\n",
       "      <th>CupEquivalentPrice</th>\n",
       "    </tr>\n",
       "  </thead>\n",
       "  <tbody>\n",
       "    <tr>\n",
       "      <th>0</th>\n",
       "      <td>1.1633</td>\n",
       "    </tr>\n",
       "    <tr>\n",
       "      <th>1</th>\n",
       "      <td>2.2545</td>\n",
       "    </tr>\n",
       "    <tr>\n",
       "      <th>2</th>\n",
       "      <td>2.0251</td>\n",
       "    </tr>\n",
       "    <tr>\n",
       "      <th>3</th>\n",
       "      <td>2.2159</td>\n",
       "    </tr>\n",
       "    <tr>\n",
       "      <th>4</th>\n",
       "      <td>1.9090</td>\n",
       "    </tr>\n",
       "    <tr>\n",
       "      <th>...</th>\n",
       "      <td>...</td>\n",
       "    </tr>\n",
       "    <tr>\n",
       "      <th>88</th>\n",
       "      <td>0.5496</td>\n",
       "    </tr>\n",
       "    <tr>\n",
       "      <th>89</th>\n",
       "      <td>1.0304</td>\n",
       "    </tr>\n",
       "    <tr>\n",
       "      <th>90</th>\n",
       "      <td>0.5660</td>\n",
       "    </tr>\n",
       "    <tr>\n",
       "      <th>91</th>\n",
       "      <td>0.8841</td>\n",
       "    </tr>\n",
       "    <tr>\n",
       "      <th>92</th>\n",
       "      <td>0.7987</td>\n",
       "    </tr>\n",
       "  </tbody>\n",
       "</table>\n",
       "<p>93 rows × 1 columns</p>\n",
       "</div>"
      ],
      "text/plain": [
       "    CupEquivalentPrice\n",
       "0               1.1633\n",
       "1               2.2545\n",
       "2               2.0251\n",
       "3               2.2159\n",
       "4               1.9090\n",
       "..                 ...\n",
       "88              0.5496\n",
       "89              1.0304\n",
       "90              0.5660\n",
       "91              0.8841\n",
       "92              0.7987\n",
       "\n",
       "[93 rows x 1 columns]"
      ]
     },
     "execution_count": 65,
     "metadata": {},
     "output_type": "execute_result"
    }
   ],
   "source": [
    "X"
   ]
  },
  {
   "cell_type": "code",
   "execution_count": 66,
   "id": "9d57e41d-03bf-4e83-ac5e-c822896e40ca",
   "metadata": {},
   "outputs": [
    {
     "data": {
      "text/plain": [
       "0     1.1804\n",
       "1     2.1913\n",
       "2     3.4119\n",
       "3     2.7576\n",
       "4     3.1269\n",
       "       ...  \n",
       "88    1.0175\n",
       "89    2.4176\n",
       "90    1.0429\n",
       "91    1.9451\n",
       "92    1.5489\n",
       "Name: RetailPrice, Length: 93, dtype: float64"
      ]
     },
     "execution_count": 66,
     "metadata": {},
     "output_type": "execute_result"
    }
   ],
   "source": [
    "y"
   ]
  },
  {
   "cell_type": "code",
   "execution_count": 67,
   "id": "2caca811-5e74-4c68-bd1a-2a5c67827651",
   "metadata": {},
   "outputs": [],
   "source": [
    "# Step 5: Split the dataset into training and testing sets\n",
    "X_train, X_test, y_train, y_test = train_test_split(X, y, test_size=0.2, random_state=42)"
   ]
  },
  {
   "cell_type": "code",
   "execution_count": 68,
   "id": "23b5f7e9-140b-4c7e-9917-940d2026dfc3",
   "metadata": {},
   "outputs": [],
   "source": [
    "# Step 6: Create a linear regression model\n",
    "model = LinearRegression()"
   ]
  },
  {
   "cell_type": "code",
   "execution_count": 69,
   "id": "1e9b3f97-32d7-41af-8e0b-8e125f5fe096",
   "metadata": {},
   "outputs": [
    {
     "data": {
      "text/html": [
       "<style>#sk-container-id-3 {color: black;}#sk-container-id-3 pre{padding: 0;}#sk-container-id-3 div.sk-toggleable {background-color: white;}#sk-container-id-3 label.sk-toggleable__label {cursor: pointer;display: block;width: 100%;margin-bottom: 0;padding: 0.3em;box-sizing: border-box;text-align: center;}#sk-container-id-3 label.sk-toggleable__label-arrow:before {content: \"▸\";float: left;margin-right: 0.25em;color: #696969;}#sk-container-id-3 label.sk-toggleable__label-arrow:hover:before {color: black;}#sk-container-id-3 div.sk-estimator:hover label.sk-toggleable__label-arrow:before {color: black;}#sk-container-id-3 div.sk-toggleable__content {max-height: 0;max-width: 0;overflow: hidden;text-align: left;background-color: #f0f8ff;}#sk-container-id-3 div.sk-toggleable__content pre {margin: 0.2em;color: black;border-radius: 0.25em;background-color: #f0f8ff;}#sk-container-id-3 input.sk-toggleable__control:checked~div.sk-toggleable__content {max-height: 200px;max-width: 100%;overflow: auto;}#sk-container-id-3 input.sk-toggleable__control:checked~label.sk-toggleable__label-arrow:before {content: \"▾\";}#sk-container-id-3 div.sk-estimator input.sk-toggleable__control:checked~label.sk-toggleable__label {background-color: #d4ebff;}#sk-container-id-3 div.sk-label input.sk-toggleable__control:checked~label.sk-toggleable__label {background-color: #d4ebff;}#sk-container-id-3 input.sk-hidden--visually {border: 0;clip: rect(1px 1px 1px 1px);clip: rect(1px, 1px, 1px, 1px);height: 1px;margin: -1px;overflow: hidden;padding: 0;position: absolute;width: 1px;}#sk-container-id-3 div.sk-estimator {font-family: monospace;background-color: #f0f8ff;border: 1px dotted black;border-radius: 0.25em;box-sizing: border-box;margin-bottom: 0.5em;}#sk-container-id-3 div.sk-estimator:hover {background-color: #d4ebff;}#sk-container-id-3 div.sk-parallel-item::after {content: \"\";width: 100%;border-bottom: 1px solid gray;flex-grow: 1;}#sk-container-id-3 div.sk-label:hover label.sk-toggleable__label {background-color: #d4ebff;}#sk-container-id-3 div.sk-serial::before {content: \"\";position: absolute;border-left: 1px solid gray;box-sizing: border-box;top: 0;bottom: 0;left: 50%;z-index: 0;}#sk-container-id-3 div.sk-serial {display: flex;flex-direction: column;align-items: center;background-color: white;padding-right: 0.2em;padding-left: 0.2em;position: relative;}#sk-container-id-3 div.sk-item {position: relative;z-index: 1;}#sk-container-id-3 div.sk-parallel {display: flex;align-items: stretch;justify-content: center;background-color: white;position: relative;}#sk-container-id-3 div.sk-item::before, #sk-container-id-3 div.sk-parallel-item::before {content: \"\";position: absolute;border-left: 1px solid gray;box-sizing: border-box;top: 0;bottom: 0;left: 50%;z-index: -1;}#sk-container-id-3 div.sk-parallel-item {display: flex;flex-direction: column;z-index: 1;position: relative;background-color: white;}#sk-container-id-3 div.sk-parallel-item:first-child::after {align-self: flex-end;width: 50%;}#sk-container-id-3 div.sk-parallel-item:last-child::after {align-self: flex-start;width: 50%;}#sk-container-id-3 div.sk-parallel-item:only-child::after {width: 0;}#sk-container-id-3 div.sk-dashed-wrapped {border: 1px dashed gray;margin: 0 0.4em 0.5em 0.4em;box-sizing: border-box;padding-bottom: 0.4em;background-color: white;}#sk-container-id-3 div.sk-label label {font-family: monospace;font-weight: bold;display: inline-block;line-height: 1.2em;}#sk-container-id-3 div.sk-label-container {text-align: center;}#sk-container-id-3 div.sk-container {/* jupyter's `normalize.less` sets `[hidden] { display: none; }` but bootstrap.min.css set `[hidden] { display: none !important; }` so we also need the `!important` here to be able to override the default hidden behavior on the sphinx rendered scikit-learn.org. See: https://github.com/scikit-learn/scikit-learn/issues/21755 */display: inline-block !important;position: relative;}#sk-container-id-3 div.sk-text-repr-fallback {display: none;}</style><div id=\"sk-container-id-3\" class=\"sk-top-container\"><div class=\"sk-text-repr-fallback\"><pre>LinearRegression()</pre><b>In a Jupyter environment, please rerun this cell to show the HTML representation or trust the notebook. <br />On GitHub, the HTML representation is unable to render, please try loading this page with nbviewer.org.</b></div><div class=\"sk-container\" hidden><div class=\"sk-item\"><div class=\"sk-estimator sk-toggleable\"><input class=\"sk-toggleable__control sk-hidden--visually\" id=\"sk-estimator-id-3\" type=\"checkbox\" checked><label for=\"sk-estimator-id-3\" class=\"sk-toggleable__label sk-toggleable__label-arrow\">LinearRegression</label><div class=\"sk-toggleable__content\"><pre>LinearRegression()</pre></div></div></div></div></div>"
      ],
      "text/plain": [
       "LinearRegression()"
      ]
     },
     "execution_count": 69,
     "metadata": {},
     "output_type": "execute_result"
    }
   ],
   "source": [
    "# Step 7: Train the model\n",
    "model.fit(X_train, y_train)\n"
   ]
  },
  {
   "cell_type": "code",
   "execution_count": 70,
   "id": "bfb9c288-04e4-4d4e-b141-78e84987898f",
   "metadata": {},
   "outputs": [],
   "source": [
    "# Step 8: Make predictions on the test set\n",
    "y_pred = model.predict(X_test)"
   ]
  },
  {
   "cell_type": "code",
   "execution_count": 71,
   "id": "a2c08646-aa3f-4969-b856-adfe532caab6",
   "metadata": {},
   "outputs": [
    {
     "data": {
      "text/plain": [
       "array([1.18418658, 1.19101376, 2.02579262, 1.57799117, 2.57786384,\n",
       "       2.3531873 , 1.70258735, 1.13515496, 1.70103572, 1.82671803,\n",
       "       2.37134142, 1.66612396, 1.65107312, 1.6236092 , 2.23029792,\n",
       "       3.73491699, 1.23570081, 1.68955363, 1.66783076])"
      ]
     },
     "execution_count": 71,
     "metadata": {},
     "output_type": "execute_result"
    }
   ],
   "source": [
    "y_pred"
   ]
  },
  {
   "cell_type": "code",
   "execution_count": 72,
   "id": "3d43a1fa-ddb1-47bb-b3d9-aa57eb2ac124",
   "metadata": {},
   "outputs": [
    {
     "data": {
      "text/plain": [
       "40    1.6965\n",
       "22    0.8703\n",
       "55    1.4004\n",
       "72    0.8742\n",
       "0     1.1804\n",
       "26    3.5859\n",
       "39    1.0095\n",
       "67    1.4942\n",
       "10    1.0375\n",
       "44    1.2516\n",
       "83    2.1330\n",
       "35    1.0287\n",
       "90    1.0429\n",
       "62    3.4464\n",
       "12    2.7486\n",
       "4     3.1269\n",
       "18    0.7025\n",
       "28    1.9946\n",
       "49    0.9719\n",
       "Name: RetailPrice, dtype: float64"
      ]
     },
     "execution_count": 72,
     "metadata": {},
     "output_type": "execute_result"
    }
   ],
   "source": [
    "y_test"
   ]
  },
  {
   "cell_type": "code",
   "execution_count": 73,
   "id": "87b0835a-ecb4-4f25-b637-11050d8a125a",
   "metadata": {},
   "outputs": [
    {
     "name": "stdout",
     "output_type": "stream",
     "text": [
      "Mean Squared Error: 0.6189539159297247\n",
      "Root Mean Squared Error: 0.7867362429237162\n",
      "Mean Absolute Error: 0.6868631561434799\n",
      "R-squared: 0.23071617871956862\n"
     ]
    }
   ],
   "source": [
    "# Step 9: Evaluate the model\n",
    "mse = mean_squared_error(y_test, y_pred)\n",
    "print('Mean Squared Error:', mse)\n",
    "rmse = mean_squared_error(y_test, y_pred, squared=False)\n",
    "print('Root Mean Squared Error:', rmse)\n",
    "mae = mean_absolute_error(y_test, y_pred)\n",
    "print('Mean Absolute Error:', mae)\n",
    "r2 = r2_score(y_test, y_pred)\n",
    "print('R-squared:', r2)"
   ]
  },
  {
   "cell_type": "code",
   "execution_count": 74,
   "id": "45313cc9-c433-4b67-8f5e-d0e7588ee54c",
   "metadata": {},
   "outputs": [
    {
     "name": "stdout",
     "output_type": "stream",
     "text": [
      "Coefficients: [1.55163356]\n",
      "Intercept: 0.7728485178254159\n"
     ]
    }
   ],
   "source": [
    "# Display the coefficients and intercept\n",
    "print('Coefficients:', model.coef_)\n",
    "print('Intercept:', model.intercept_)\n"
   ]
  },
  {
   "cell_type": "code",
   "execution_count": 75,
   "id": "eef6776f-55e9-40aa-9fc2-3d90c4ebb5bb",
   "metadata": {},
   "outputs": [
    {
     "data": {
      "image/png": "[encoded data removed]",
      "text/plain": [
       "<Figure size 640x480 with 1 Axes>"
      ]
     },
     "metadata": {},
     "output_type": "display_data"
    }
   ],
   "source": [
    "# Step 10: Visualize the linear regression line\n",
    "plt.scatter(X_test, y_test, color='black', label='Actual')\n",
    "plt.plot(X_test, y_pred, color='blue', linewidth=3, label='Linear Regression')\n",
    "plt.title('Linear Regression: RetailPrice vs CupEquivalentPrice')\n",
    "plt.xlabel('CupEquivalentPrice')\n",
    "plt.ylabel('RetailPrice')\n",
    "plt.legend()\n",
    "plt.show()"
   ]
  },
  {
   "cell_type": "raw",
   "id": "4da68641-eeec-4c18-8737-5dc346372c1f",
   "metadata": {},
   "source": [
    "# Interpretation: This plot compares actual RetailPrice values (black dots) with predictions (blue line) from a Linear Regression model based on CupEquivalentPrice. The line represents the model's fit to the test data, visually assessing its performance in predicting RetailPrice."
   ]
  },
  {
   "cell_type": "code",
   "execution_count": null,
   "id": "a0635194-88ec-4239-8ced-7ede882bac44",
   "metadata": {},
   "outputs": [],
   "source": []
  },
  {
   "cell_type": "markdown",
   "id": "04131115-2744-4429-9e72-1f073f035576",
   "metadata": {},
   "source": [
    "# Now doing Support vector regressor on it"
   ]
  },
  {
   "cell_type": "code",
   "execution_count": 76,
   "id": "90fcf6f8-0d08-4648-8e0c-5bcb058a0ea8",
   "metadata": {},
   "outputs": [],
   "source": [
    "import pandas as pd\n",
    "from sklearn.model_selection import train_test_split\n",
    "from sklearn.svm import SVR\n",
    "from sklearn.metrics import mean_squared_error, mean_absolute_error, r2_score\n",
    "import matplotlib.pyplot as plt"
   ]
  },
  {
   "cell_type": "code",
   "execution_count": 77,
   "id": "3773c095-656d-4eb9-91f9-00ed290de1c2",
   "metadata": {},
   "outputs": [
    {
     "data": {
      "text/html": [
       "<div>\n",
       "<style scoped>\n",
       "    .dataframe tbody tr th:only-of-type {\n",
       "        vertical-align: middle;\n",
       "    }\n",
       "\n",
       "    .dataframe tbody tr th {\n",
       "        vertical-align: top;\n",
       "    }\n",
       "\n",
       "    .dataframe thead th {\n",
       "        text-align: right;\n",
       "    }\n",
       "</style>\n",
       "<table border=\"1\" class=\"dataframe\">\n",
       "  <thead>\n",
       "    <tr style=\"text-align: right;\">\n",
       "      <th></th>\n",
       "      <th>Vegetable</th>\n",
       "      <th>Form</th>\n",
       "      <th>RetailPrice</th>\n",
       "      <th>RetailPriceUnit</th>\n",
       "      <th>Yield</th>\n",
       "      <th>CupEquivalentSize</th>\n",
       "      <th>CupEquivalentUnit</th>\n",
       "      <th>CupEquivalentPrice</th>\n",
       "    </tr>\n",
       "  </thead>\n",
       "  <tbody>\n",
       "    <tr>\n",
       "      <th>0</th>\n",
       "      <td>Acorn squash</td>\n",
       "      <td>Fresh</td>\n",
       "      <td>1.1804</td>\n",
       "      <td>per pound</td>\n",
       "      <td>0.4586</td>\n",
       "      <td>0.4519</td>\n",
       "      <td>pounds</td>\n",
       "      <td>1.1633</td>\n",
       "    </tr>\n",
       "    <tr>\n",
       "      <th>1</th>\n",
       "      <td>Artichoke</td>\n",
       "      <td>Fresh</td>\n",
       "      <td>2.1913</td>\n",
       "      <td>per pound</td>\n",
       "      <td>0.3750</td>\n",
       "      <td>0.3858</td>\n",
       "      <td>pounds</td>\n",
       "      <td>2.2545</td>\n",
       "    </tr>\n",
       "    <tr>\n",
       "      <th>2</th>\n",
       "      <td>Artichoke</td>\n",
       "      <td>Canned</td>\n",
       "      <td>3.4119</td>\n",
       "      <td>per pound</td>\n",
       "      <td>0.6500</td>\n",
       "      <td>0.3858</td>\n",
       "      <td>pounds</td>\n",
       "      <td>2.0251</td>\n",
       "    </tr>\n",
       "    <tr>\n",
       "      <th>3</th>\n",
       "      <td>Asparagus</td>\n",
       "      <td>Fresh</td>\n",
       "      <td>2.7576</td>\n",
       "      <td>per pound</td>\n",
       "      <td>0.4938</td>\n",
       "      <td>0.3968</td>\n",
       "      <td>pounds</td>\n",
       "      <td>2.2159</td>\n",
       "    </tr>\n",
       "    <tr>\n",
       "      <th>4</th>\n",
       "      <td>Asparagus</td>\n",
       "      <td>Canned</td>\n",
       "      <td>3.1269</td>\n",
       "      <td>per pound</td>\n",
       "      <td>0.6500</td>\n",
       "      <td>0.3968</td>\n",
       "      <td>pounds</td>\n",
       "      <td>1.9090</td>\n",
       "    </tr>\n",
       "    <tr>\n",
       "      <th>...</th>\n",
       "      <td>...</td>\n",
       "      <td>...</td>\n",
       "      <td>...</td>\n",
       "      <td>...</td>\n",
       "      <td>...</td>\n",
       "      <td>...</td>\n",
       "      <td>...</td>\n",
       "      <td>...</td>\n",
       "    </tr>\n",
       "    <tr>\n",
       "      <th>88</th>\n",
       "      <td>Tomatoes</td>\n",
       "      <td>Canned</td>\n",
       "      <td>1.0175</td>\n",
       "      <td>per pound</td>\n",
       "      <td>1.0000</td>\n",
       "      <td>0.5401</td>\n",
       "      <td>pounds</td>\n",
       "      <td>0.5496</td>\n",
       "    </tr>\n",
       "    <tr>\n",
       "      <th>89</th>\n",
       "      <td>Turnip greens</td>\n",
       "      <td>Fresh</td>\n",
       "      <td>2.4176</td>\n",
       "      <td>per pound</td>\n",
       "      <td>0.7500</td>\n",
       "      <td>0.3197</td>\n",
       "      <td>pounds</td>\n",
       "      <td>1.0304</td>\n",
       "    </tr>\n",
       "    <tr>\n",
       "      <th>90</th>\n",
       "      <td>Turnip greens</td>\n",
       "      <td>Canned</td>\n",
       "      <td>1.0429</td>\n",
       "      <td>per pound</td>\n",
       "      <td>0.6500</td>\n",
       "      <td>0.3527</td>\n",
       "      <td>pounds</td>\n",
       "      <td>0.5660</td>\n",
       "    </tr>\n",
       "    <tr>\n",
       "      <th>91</th>\n",
       "      <td>Turnip greens</td>\n",
       "      <td>Frozen</td>\n",
       "      <td>1.9451</td>\n",
       "      <td>per pound</td>\n",
       "      <td>0.7760</td>\n",
       "      <td>0.3527</td>\n",
       "      <td>pounds</td>\n",
       "      <td>0.8841</td>\n",
       "    </tr>\n",
       "    <tr>\n",
       "      <th>92</th>\n",
       "      <td>Zucchini</td>\n",
       "      <td>Fresh</td>\n",
       "      <td>1.5489</td>\n",
       "      <td>per pound</td>\n",
       "      <td>0.7695</td>\n",
       "      <td>0.3968</td>\n",
       "      <td>pounds</td>\n",
       "      <td>0.7987</td>\n",
       "    </tr>\n",
       "  </tbody>\n",
       "</table>\n",
       "<p>93 rows × 8 columns</p>\n",
       "</div>"
      ],
      "text/plain": [
       "        Vegetable    Form  RetailPrice RetailPriceUnit   Yield  \\\n",
       "0    Acorn squash   Fresh       1.1804       per pound  0.4586   \n",
       "1       Artichoke   Fresh       2.1913       per pound  0.3750   \n",
       "2       Artichoke  Canned       3.4119       per pound  0.6500   \n",
       "3       Asparagus   Fresh       2.7576       per pound  0.4938   \n",
       "4       Asparagus  Canned       3.1269       per pound  0.6500   \n",
       "..            ...     ...          ...             ...     ...   \n",
       "88       Tomatoes  Canned       1.0175       per pound  1.0000   \n",
       "89  Turnip greens   Fresh       2.4176       per pound  0.7500   \n",
       "90  Turnip greens  Canned       1.0429       per pound  0.6500   \n",
       "91  Turnip greens  Frozen       1.9451       per pound  0.7760   \n",
       "92       Zucchini   Fresh       1.5489       per pound  0.7695   \n",
       "\n",
       "    CupEquivalentSize CupEquivalentUnit  CupEquivalentPrice  \n",
       "0              0.4519            pounds              1.1633  \n",
       "1              0.3858            pounds              2.2545  \n",
       "2              0.3858            pounds              2.0251  \n",
       "3              0.3968            pounds              2.2159  \n",
       "4              0.3968            pounds              1.9090  \n",
       "..                ...               ...                 ...  \n",
       "88             0.5401            pounds              0.5496  \n",
       "89             0.3197            pounds              1.0304  \n",
       "90             0.3527            pounds              0.5660  \n",
       "91             0.3527            pounds              0.8841  \n",
       "92             0.3968            pounds              0.7987  \n",
       "\n",
       "[93 rows x 8 columns]"
      ]
     },
     "execution_count": 77,
     "metadata": {},
     "output_type": "execute_result"
    }
   ],
   "source": [
    "# Step 1: Load the dataset\n",
    "vegetable_data = pd.read_csv('vegetable Prices 2020.csv')\n",
    "vegetable_data"
   ]
  },
  {
   "cell_type": "code",
   "execution_count": 78,
   "id": "79267bbd-36be-42d4-b9ac-39cd7b2b8620",
   "metadata": {},
   "outputs": [],
   "source": [
    "# Step 2: Select features and target variable\n",
    "# Assuming we want to predict 'RetailPrice' based on 'CupEquivalentPrice'\n",
    "X = vegetable_data[['CupEquivalentPrice']]  # this is our independent variable\n",
    "y = vegetable_data['RetailPrice'] # this is our dependent variable"
   ]
  },
  {
   "cell_type": "code",
   "execution_count": 79,
   "id": "92b77cb0-d34f-4d8e-8093-f808916634d1",
   "metadata": {},
   "outputs": [
    {
     "data": {
      "text/html": [
       "<div>\n",
       "<style scoped>\n",
       "    .dataframe tbody tr th:only-of-type {\n",
       "        vertical-align: middle;\n",
       "    }\n",
       "\n",
       "    .dataframe tbody tr th {\n",
       "        vertical-align: top;\n",
       "    }\n",
       "\n",
       "    .dataframe thead th {\n",
       "        text-align: right;\n",
       "    }\n",
       "</style>\n",
       "<table border=\"1\" class=\"dataframe\">\n",
       "  <thead>\n",
       "    <tr style=\"text-align: right;\">\n",
       "      <th></th>\n",
       "      <th>CupEquivalentPrice</th>\n",
       "    </tr>\n",
       "  </thead>\n",
       "  <tbody>\n",
       "    <tr>\n",
       "      <th>0</th>\n",
       "      <td>1.1633</td>\n",
       "    </tr>\n",
       "    <tr>\n",
       "      <th>1</th>\n",
       "      <td>2.2545</td>\n",
       "    </tr>\n",
       "    <tr>\n",
       "      <th>2</th>\n",
       "      <td>2.0251</td>\n",
       "    </tr>\n",
       "    <tr>\n",
       "      <th>3</th>\n",
       "      <td>2.2159</td>\n",
       "    </tr>\n",
       "    <tr>\n",
       "      <th>4</th>\n",
       "      <td>1.9090</td>\n",
       "    </tr>\n",
       "    <tr>\n",
       "      <th>...</th>\n",
       "      <td>...</td>\n",
       "    </tr>\n",
       "    <tr>\n",
       "      <th>88</th>\n",
       "      <td>0.5496</td>\n",
       "    </tr>\n",
       "    <tr>\n",
       "      <th>89</th>\n",
       "      <td>1.0304</td>\n",
       "    </tr>\n",
       "    <tr>\n",
       "      <th>90</th>\n",
       "      <td>0.5660</td>\n",
       "    </tr>\n",
       "    <tr>\n",
       "      <th>91</th>\n",
       "      <td>0.8841</td>\n",
       "    </tr>\n",
       "    <tr>\n",
       "      <th>92</th>\n",
       "      <td>0.7987</td>\n",
       "    </tr>\n",
       "  </tbody>\n",
       "</table>\n",
       "<p>93 rows × 1 columns</p>\n",
       "</div>"
      ],
      "text/plain": [
       "    CupEquivalentPrice\n",
       "0               1.1633\n",
       "1               2.2545\n",
       "2               2.0251\n",
       "3               2.2159\n",
       "4               1.9090\n",
       "..                 ...\n",
       "88              0.5496\n",
       "89              1.0304\n",
       "90              0.5660\n",
       "91              0.8841\n",
       "92              0.7987\n",
       "\n",
       "[93 rows x 1 columns]"
      ]
     },
     "execution_count": 79,
     "metadata": {},
     "output_type": "execute_result"
    }
   ],
   "source": [
    "X"
   ]
  },
  {
   "cell_type": "code",
   "execution_count": 80,
   "id": "9adce46b-8477-4746-a43b-2c0e5ba990d8",
   "metadata": {},
   "outputs": [
    {
     "data": {
      "text/plain": [
       "0     1.1804\n",
       "1     2.1913\n",
       "2     3.4119\n",
       "3     2.7576\n",
       "4     3.1269\n",
       "       ...  \n",
       "88    1.0175\n",
       "89    2.4176\n",
       "90    1.0429\n",
       "91    1.9451\n",
       "92    1.5489\n",
       "Name: RetailPrice, Length: 93, dtype: float64"
      ]
     },
     "execution_count": 80,
     "metadata": {},
     "output_type": "execute_result"
    }
   ],
   "source": [
    "y"
   ]
  },
  {
   "cell_type": "code",
   "execution_count": 81,
   "id": "40dcb092-9768-4872-ad4b-a9e5a929e72d",
   "metadata": {},
   "outputs": [
    {
     "data": {
      "text/plain": [
       "array([[ 0.89675663],\n",
       "       [ 3.22857985],\n",
       "       [ 2.73836701],\n",
       "       [ 3.14609417],\n",
       "       [ 2.49026889],\n",
       "       [ 3.91175789],\n",
       "       [ 0.47364355],\n",
       "       [-0.02618549],\n",
       "       [-0.28518199],\n",
       "       [-1.1299123 ],\n",
       "       [-0.3108252 ],\n",
       "       [-1.0183643 ],\n",
       "       [ 0.41808324],\n",
       "       [ 0.570233  ],\n",
       "       [ 0.19477356],\n",
       "       [ 0.26358286],\n",
       "       [ 0.40483425],\n",
       "       [ 0.07809692],\n",
       "       [-0.95169194],\n",
       "       [-0.5926869 ],\n",
       "       [-0.28796   ],\n",
       "       [-0.86044483],\n",
       "       [-1.01323566],\n",
       "       [-0.84035764],\n",
       "       [-0.39993538],\n",
       "       [-0.42066365],\n",
       "       [ 0.58732848],\n",
       "       [-0.28496829],\n",
       "       [-0.32663852],\n",
       "       [-0.82689495],\n",
       "       [-0.23004907],\n",
       "       [-0.17320661],\n",
       "       [-0.34330661],\n",
       "       [ 0.08749944],\n",
       "       [ 1.13267423],\n",
       "       [-0.35890624],\n",
       "       [-0.24586239],\n",
       "       [-0.89356731],\n",
       "       [-0.66491529],\n",
       "       [-0.30868827],\n",
       "       [-1.02263817],\n",
       "       [-0.09606326],\n",
       "       [-0.59354167],\n",
       "       [-0.21850962],\n",
       "       [-0.13773349],\n",
       "       [ 0.01035609],\n",
       "       [-0.70850876],\n",
       "       [-0.12982683],\n",
       "       [ 0.24798324],\n",
       "       [-0.35655561],\n",
       "       [-1.01430413],\n",
       "       [-1.03845149],\n",
       "       [-1.04635815],\n",
       "       [-0.71791128],\n",
       "       [-0.2323997 ],\n",
       "       [ 0.13643524],\n",
       "       [-0.20248261],\n",
       "       [-0.87946355],\n",
       "       [ 0.12126301],\n",
       "       [-0.46917207],\n",
       "       [-0.41339807],\n",
       "       [-0.21872332],\n",
       "       [-0.41745825],\n",
       "       [-0.38818224],\n",
       "       [-0.44801642],\n",
       "       [ 0.23366577],\n",
       "       [-0.25825661],\n",
       "       [-1.09016531],\n",
       "       [ 2.30991159],\n",
       "       [ 0.06356577],\n",
       "       [ 2.08190065],\n",
       "       [-0.77240311],\n",
       "       [-0.48028413],\n",
       "       [-1.15726506],\n",
       "       [-1.1235015 ],\n",
       "       [-0.14264844],\n",
       "       [-0.34544355],\n",
       "       [ 0.73926454],\n",
       "       [-0.55721378],\n",
       "       [-0.09905497],\n",
       "       [ 1.15874483],\n",
       "       [-0.60166203],\n",
       "       [ 0.03172544],\n",
       "       [ 0.61233061],\n",
       "       [-0.39266981],\n",
       "       [ 2.05967653],\n",
       "       [-0.5666163 ],\n",
       "       [ 0.46573689],\n",
       "       [-0.41468023],\n",
       "       [ 0.612758  ],\n",
       "       [-0.3796345 ],\n",
       "       [ 0.30012445],\n",
       "       [ 0.11763022]])"
      ]
     },
     "execution_count": 81,
     "metadata": {},
     "output_type": "execute_result"
    }
   ],
   "source": [
    "# Step 3: Preprocess the data (scaling)\n",
    "from sklearn.preprocessing import StandardScaler\n",
    "scaler = StandardScaler()\n",
    "X_scaled = scaler.fit_transform(X)\n",
    "X_scaled"
   ]
  },
  {
   "cell_type": "code",
   "execution_count": 82,
   "id": "99271870-7ab2-4867-822c-49fa92692271",
   "metadata": {},
   "outputs": [],
   "source": [
    "# Step 4: Split the dataset into training and testing sets\n",
    "X_train, X_test, y_train, y_test = train_test_split(X_scaled, y, test_size=0.2, random_state=42)"
   ]
  },
  {
   "cell_type": "code",
   "execution_count": 83,
   "id": "964d050e-418a-439f-b94f-8c395d87d945",
   "metadata": {},
   "outputs": [
    {
     "data": {
      "text/plain": [
       "array([[-1.02263817],\n",
       "       [-1.01323566],\n",
       "       [ 0.13643524],\n",
       "       [-0.48028413],\n",
       "       [ 0.89675663],\n",
       "       [ 0.58732848],\n",
       "       [-0.30868827],\n",
       "       [-1.09016531],\n",
       "       [-0.3108252 ],\n",
       "       [-0.13773349],\n",
       "       [ 0.61233061],\n",
       "       [-0.35890624],\n",
       "       [-0.3796345 ],\n",
       "       [-0.41745825],\n",
       "       [ 0.41808324],\n",
       "       [ 2.49026889],\n",
       "       [-0.95169194],\n",
       "       [-0.32663852],\n",
       "       [-0.35655561]])"
      ]
     },
     "execution_count": 83,
     "metadata": {},
     "output_type": "execute_result"
    }
   ],
   "source": [
    "#testing dataset\n",
    "X_test"
   ]
  },
  {
   "cell_type": "code",
   "execution_count": 84,
   "id": "9d1b5d6d-dde7-4c42-a8b2-a168eef2fd4d",
   "metadata": {},
   "outputs": [
    {
     "data": {
      "text/plain": [
       "40    1.6965\n",
       "22    0.8703\n",
       "55    1.4004\n",
       "72    0.8742\n",
       "0     1.1804\n",
       "26    3.5859\n",
       "39    1.0095\n",
       "67    1.4942\n",
       "10    1.0375\n",
       "44    1.2516\n",
       "83    2.1330\n",
       "35    1.0287\n",
       "90    1.0429\n",
       "62    3.4464\n",
       "12    2.7486\n",
       "4     3.1269\n",
       "18    0.7025\n",
       "28    1.9946\n",
       "49    0.9719\n",
       "Name: RetailPrice, dtype: float64"
      ]
     },
     "execution_count": 84,
     "metadata": {},
     "output_type": "execute_result"
    }
   ],
   "source": [
    "y_test"
   ]
  },
  {
   "cell_type": "code",
   "execution_count": 85,
   "id": "509d8c97-ca56-4070-8db7-80acae3acbee",
   "metadata": {},
   "outputs": [
    {
     "data": {
      "text/plain": [
       "array([[ 0.23366577],\n",
       "       [ 0.26358286],\n",
       "       [ 2.30991159],\n",
       "       [-0.55721378],\n",
       "       [-0.23004907],\n",
       "       [ 0.08749944],\n",
       "       [-1.0183643 ],\n",
       "       [-0.25825661],\n",
       "       [ 0.06356577],\n",
       "       [-0.17320661],\n",
       "       [ 0.73926454],\n",
       "       [-1.1299123 ],\n",
       "       [ 2.08190065],\n",
       "       [ 3.91175789],\n",
       "       [-0.59354167],\n",
       "       [-0.12982683],\n",
       "       [ 0.40483425],\n",
       "       [ 0.01035609],\n",
       "       [ 1.13267423],\n",
       "       [-0.02618549],\n",
       "       [ 1.15874483],\n",
       "       [-0.28496829],\n",
       "       [-0.5926869 ],\n",
       "       [-0.34544355],\n",
       "       [-0.42066365],\n",
       "       [-0.71791128],\n",
       "       [ 0.570233  ],\n",
       "       [-0.39993538],\n",
       "       [ 3.14609417],\n",
       "       [ 0.07809692],\n",
       "       [-0.66491529],\n",
       "       [-0.28518199],\n",
       "       [-1.15726506],\n",
       "       [ 0.47364355],\n",
       "       [ 0.612758  ],\n",
       "       [-0.24586239],\n",
       "       [ 0.46573689],\n",
       "       [-0.20248261],\n",
       "       [ 0.11763022],\n",
       "       [-0.2323997 ],\n",
       "       [-0.21850962],\n",
       "       [-1.01430413],\n",
       "       [-0.14264844],\n",
       "       [-0.70850876],\n",
       "       [-0.44801642],\n",
       "       [-0.21872332],\n",
       "       [ 0.30012445],\n",
       "       [-0.39266981],\n",
       "       [-0.09606326],\n",
       "       [ 0.12126301],\n",
       "       [ 0.24798324],\n",
       "       [-0.60166203],\n",
       "       [-0.87946355],\n",
       "       [-0.34330661],\n",
       "       [-0.41468023],\n",
       "       [-0.46917207],\n",
       "       [-0.38818224],\n",
       "       [-0.09905497],\n",
       "       [-0.89356731],\n",
       "       [-0.82689495],\n",
       "       [ 3.22857985],\n",
       "       [-1.04635815],\n",
       "       [-0.86044483],\n",
       "       [ 2.73836701],\n",
       "       [-0.84035764],\n",
       "       [ 2.05967653],\n",
       "       [-1.1235015 ],\n",
       "       [-0.5666163 ],\n",
       "       [ 0.03172544],\n",
       "       [-0.28796   ],\n",
       "       [-0.41339807],\n",
       "       [-0.77240311],\n",
       "       [ 0.19477356],\n",
       "       [-1.03845149]])"
      ]
     },
     "execution_count": 85,
     "metadata": {},
     "output_type": "execute_result"
    }
   ],
   "source": [
    "#Training dataset\n",
    "X_train"
   ]
  },
  {
   "cell_type": "code",
   "execution_count": 86,
   "id": "c904dcfa-9db9-4198-afd8-061a51b8ed2a",
   "metadata": {},
   "outputs": [
    {
     "data": {
      "text/plain": [
       "65    1.9288\n",
       "15    2.6895\n",
       "68    3.9803\n",
       "78    1.5770\n",
       "30    2.4041\n",
       "       ...  \n",
       "20    1.2823\n",
       "60    1.5978\n",
       "71    0.9751\n",
       "14    2.1543\n",
       "51    1.6493\n",
       "Name: RetailPrice, Length: 74, dtype: float64"
      ]
     },
     "execution_count": 86,
     "metadata": {},
     "output_type": "execute_result"
    }
   ],
   "source": [
    "y_train"
   ]
  },
  {
   "cell_type": "code",
   "execution_count": 87,
   "id": "1861577d-0c05-412d-9680-23c11f5016a3",
   "metadata": {},
   "outputs": [],
   "source": [
    "\n",
    "# Step 5: Create a Support Vector Regressor model\n",
    "svr_model = SVR()"
   ]
  },
  {
   "cell_type": "code",
   "execution_count": 88,
   "id": "b0ca9e97-4390-42ee-873c-e88b9889e308",
   "metadata": {},
   "outputs": [
    {
     "data": {
      "text/html": [
       "<style>#sk-container-id-4 {color: black;}#sk-container-id-4 pre{padding: 0;}#sk-container-id-4 div.sk-toggleable {background-color: white;}#sk-container-id-4 label.sk-toggleable__label {cursor: pointer;display: block;width: 100%;margin-bottom: 0;padding: 0.3em;box-sizing: border-box;text-align: center;}#sk-container-id-4 label.sk-toggleable__label-arrow:before {content: \"▸\";float: left;margin-right: 0.25em;color: #696969;}#sk-container-id-4 label.sk-toggleable__label-arrow:hover:before {color: black;}#sk-container-id-4 div.sk-estimator:hover label.sk-toggleable__label-arrow:before {color: black;}#sk-container-id-4 div.sk-toggleable__content {max-height: 0;max-width: 0;overflow: hidden;text-align: left;background-color: #f0f8ff;}#sk-container-id-4 div.sk-toggleable__content pre {margin: 0.2em;color: black;border-radius: 0.25em;background-color: #f0f8ff;}#sk-container-id-4 input.sk-toggleable__control:checked~div.sk-toggleable__content {max-height: 200px;max-width: 100%;overflow: auto;}#sk-container-id-4 input.sk-toggleable__control:checked~label.sk-toggleable__label-arrow:before {content: \"▾\";}#sk-container-id-4 div.sk-estimator input.sk-toggleable__control:checked~label.sk-toggleable__label {background-color: #d4ebff;}#sk-container-id-4 div.sk-label input.sk-toggleable__control:checked~label.sk-toggleable__label {background-color: #d4ebff;}#sk-container-id-4 input.sk-hidden--visually {border: 0;clip: rect(1px 1px 1px 1px);clip: rect(1px, 1px, 1px, 1px);height: 1px;margin: -1px;overflow: hidden;padding: 0;position: absolute;width: 1px;}#sk-container-id-4 div.sk-estimator {font-family: monospace;background-color: #f0f8ff;border: 1px dotted black;border-radius: 0.25em;box-sizing: border-box;margin-bottom: 0.5em;}#sk-container-id-4 div.sk-estimator:hover {background-color: #d4ebff;}#sk-container-id-4 div.sk-parallel-item::after {content: \"\";width: 100%;border-bottom: 1px solid gray;flex-grow: 1;}#sk-container-id-4 div.sk-label:hover label.sk-toggleable__label {background-color: #d4ebff;}#sk-container-id-4 div.sk-serial::before {content: \"\";position: absolute;border-left: 1px solid gray;box-sizing: border-box;top: 0;bottom: 0;left: 50%;z-index: 0;}#sk-container-id-4 div.sk-serial {display: flex;flex-direction: column;align-items: center;background-color: white;padding-right: 0.2em;padding-left: 0.2em;position: relative;}#sk-container-id-4 div.sk-item {position: relative;z-index: 1;}#sk-container-id-4 div.sk-parallel {display: flex;align-items: stretch;justify-content: center;background-color: white;position: relative;}#sk-container-id-4 div.sk-item::before, #sk-container-id-4 div.sk-parallel-item::before {content: \"\";position: absolute;border-left: 1px solid gray;box-sizing: border-box;top: 0;bottom: 0;left: 50%;z-index: -1;}#sk-container-id-4 div.sk-parallel-item {display: flex;flex-direction: column;z-index: 1;position: relative;background-color: white;}#sk-container-id-4 div.sk-parallel-item:first-child::after {align-self: flex-end;width: 50%;}#sk-container-id-4 div.sk-parallel-item:last-child::after {align-self: flex-start;width: 50%;}#sk-container-id-4 div.sk-parallel-item:only-child::after {width: 0;}#sk-container-id-4 div.sk-dashed-wrapped {border: 1px dashed gray;margin: 0 0.4em 0.5em 0.4em;box-sizing: border-box;padding-bottom: 0.4em;background-color: white;}#sk-container-id-4 div.sk-label label {font-family: monospace;font-weight: bold;display: inline-block;line-height: 1.2em;}#sk-container-id-4 div.sk-label-container {text-align: center;}#sk-container-id-4 div.sk-container {/* jupyter's `normalize.less` sets `[hidden] { display: none; }` but bootstrap.min.css set `[hidden] { display: none !important; }` so we also need the `!important` here to be able to override the default hidden behavior on the sphinx rendered scikit-learn.org. See: https://github.com/scikit-learn/scikit-learn/issues/21755 */display: inline-block !important;position: relative;}#sk-container-id-4 div.sk-text-repr-fallback {display: none;}</style><div id=\"sk-container-id-4\" class=\"sk-top-container\"><div class=\"sk-text-repr-fallback\"><pre>SVR()</pre><b>In a Jupyter environment, please rerun this cell to show the HTML representation or trust the notebook. <br />On GitHub, the HTML representation is unable to render, please try loading this page with nbviewer.org.</b></div><div class=\"sk-container\" hidden><div class=\"sk-item\"><div class=\"sk-estimator sk-toggleable\"><input class=\"sk-toggleable__control sk-hidden--visually\" id=\"sk-estimator-id-4\" type=\"checkbox\" checked><label for=\"sk-estimator-id-4\" class=\"sk-toggleable__label sk-toggleable__label-arrow\">SVR</label><div class=\"sk-toggleable__content\"><pre>SVR()</pre></div></div></div></div></div>"
      ],
      "text/plain": [
       "SVR()"
      ]
     },
     "execution_count": 88,
     "metadata": {},
     "output_type": "execute_result"
    }
   ],
   "source": [
    "# Step 6: Train the model\n",
    "svr_model.fit(X_train, y_train)"
   ]
  },
  {
   "cell_type": "code",
   "execution_count": 89,
   "id": "d8e59093-123a-4478-9a96-e3191a163d5e",
   "metadata": {},
   "outputs": [],
   "source": [
    "# Step 7: Make predictions on the test set\n",
    "svr_y_pred = svr_model.predict(X_test)"
   ]
  },
  {
   "cell_type": "code",
   "execution_count": 90,
   "id": "c10ad3a6-6c72-4577-acac-55db3e6cbdab",
   "metadata": {},
   "outputs": [
    {
     "data": {
      "text/plain": [
       "array([1.30933378, 1.3049333 , 1.97281919, 1.40054418, 2.56019318,\n",
       "       2.29970491, 1.54821169, 1.34666929, 1.54619143, 1.71604237,\n",
       "       2.31731608, 1.50169275, 1.48316181, 1.45056493, 2.18477936,\n",
       "       3.71163337, 1.28120868, 1.53134612, 1.50382118])"
      ]
     },
     "execution_count": 90,
     "metadata": {},
     "output_type": "execute_result"
    }
   ],
   "source": [
    "svr_y_pred"
   ]
  },
  {
   "cell_type": "code",
   "execution_count": 91,
   "id": "a70db70a-3d21-47d0-9fa2-ef7103c6be31",
   "metadata": {},
   "outputs": [
    {
     "data": {
      "text/plain": [
       "40    1.6965\n",
       "22    0.8703\n",
       "55    1.4004\n",
       "72    0.8742\n",
       "0     1.1804\n",
       "26    3.5859\n",
       "39    1.0095\n",
       "67    1.4942\n",
       "10    1.0375\n",
       "44    1.2516\n",
       "83    2.1330\n",
       "35    1.0287\n",
       "90    1.0429\n",
       "62    3.4464\n",
       "12    2.7486\n",
       "4     3.1269\n",
       "18    0.7025\n",
       "28    1.9946\n",
       "49    0.9719\n",
       "Name: RetailPrice, dtype: float64"
      ]
     },
     "execution_count": 91,
     "metadata": {},
     "output_type": "execute_result"
    }
   ],
   "source": [
    "y_test"
   ]
  },
  {
   "cell_type": "code",
   "execution_count": 93,
   "id": "43171a0f-09e6-49cc-8468-09051008b028",
   "metadata": {},
   "outputs": [
    {
     "name": "stdout",
     "output_type": "stream",
     "text": [
      "Mean Squared Error: 0.5902747105585908\n",
      "root mean Squared Error: 0.7867362429237162\n",
      "R-squared: 0.26636091434750686\n",
      "Mean absolute error: 0.6348300415730124\n"
     ]
    }
   ],
   "source": [
    "# Step 8: Evaluate the model\n",
    "mse = mean_squared_error(y_test, svr_y_pred)\n",
    "r2 = r2_score(y_test, svr_y_pred)\n",
    "mae= mean_absolute_error(y_test, svr_y_pred)\n",
    "rmse = mean_squared_error(y_test, y_pred, squared=False)\n",
    "\n",
    "\n",
    "# Display the evaluation metrics\n",
    "print('Mean Squared Error:', mse)\n",
    "print('root mean Squared Error:', rmse)\n",
    "print('R-squared:', r2)\n",
    "print('Mean absolute error:',mae)\n"
   ]
  },
  {
   "cell_type": "code",
   "execution_count": 94,
   "id": "491b0798-94cc-4e16-a282-594290d64912",
   "metadata": {},
   "outputs": [
    {
     "name": "stdout",
     "output_type": "stream",
     "text": [
      "\n",
      "Support Vectors:\n",
      "[[ 0.23366577]\n",
      " [ 0.26358286]\n",
      " [-0.55721378]\n",
      " [-0.23004907]\n",
      " [-1.0183643 ]\n",
      " [-0.25825661]\n",
      " [-0.17320661]\n",
      " [ 0.73926454]\n",
      " [ 2.08190065]\n",
      " [ 3.91175789]\n",
      " [-0.59354167]\n",
      " [-0.12982683]\n",
      " [ 0.40483425]\n",
      " [ 1.13267423]\n",
      " [-0.02618549]\n",
      " [ 1.15874483]\n",
      " [-0.28496829]\n",
      " [-0.5926869 ]\n",
      " [-0.34544355]\n",
      " [-0.42066365]\n",
      " [-0.71791128]\n",
      " [-0.39993538]\n",
      " [ 3.14609417]\n",
      " [ 0.07809692]\n",
      " [-0.66491529]\n",
      " [-0.28518199]\n",
      " [-1.15726506]\n",
      " [ 0.612758  ]\n",
      " [ 0.46573689]\n",
      " [-0.20248261]\n",
      " [ 0.11763022]\n",
      " [-0.2323997 ]\n",
      " [-0.21850962]\n",
      " [-1.01430413]\n",
      " [-0.14264844]\n",
      " [-0.44801642]\n",
      " [-0.21872332]\n",
      " [ 0.30012445]\n",
      " [-0.39266981]\n",
      " [-0.09606326]\n",
      " [ 0.12126301]\n",
      " [-0.60166203]\n",
      " [-0.87946355]\n",
      " [-0.34330661]\n",
      " [-0.41468023]\n",
      " [-0.46917207]\n",
      " [-0.38818224]\n",
      " [-0.09905497]\n",
      " [-0.82689495]\n",
      " [ 3.22857985]\n",
      " [-1.04635815]\n",
      " [-0.86044483]\n",
      " [ 2.05967653]\n",
      " [-1.1235015 ]\n",
      " [-0.5666163 ]\n",
      " [ 0.03172544]\n",
      " [-0.28796   ]\n",
      " [-0.41339807]\n",
      " [-0.77240311]\n",
      " [ 0.19477356]\n",
      " [-1.03845149]]\n",
      "\n",
      "Dual Coefficients:\n",
      "[[-1.          1.          1.          1.          1.         -1.\n",
      "   1.         -1.          1.          1.         -1.          1.\n",
      "   1.         -1.         -1.          0.40872855  1.         -1.\n",
      "  -1.          1.          1.         -1.         -0.01595357 -1.\n",
      "  -0.55771119 -1.         -0.33699208  0.55832266  1.          1.\n",
      "  -1.          1.          1.          1.         -1.         -1.\n",
      "   1.         -1.         -1.          1.         -1.          1.\n",
      "   1.         -1.         -1.          1.          1.          1.\n",
      "  -1.         -1.         -1.         -1.          0.94360562 -1.\n",
      "  -1.         -1.         -1.          1.         -1.          1.\n",
      "   1.        ]]\n"
     ]
    }
   ],
   "source": [
    "# Step 9: Display Support Vectors and Dual Coefficients\n",
    "support_vectors = svr_model.support_vectors_\n",
    "dual_coefficients = svr_model.dual_coef_\n",
    "\n",
    "print('\\nSupport Vectors:')\n",
    "print(support_vectors)\n",
    "print('\\nDual Coefficients:')\n",
    "print(dual_coefficients)"
   ]
  },
  {
   "cell_type": "code",
   "execution_count": 95,
   "id": "077fc5d3-f1de-48b6-8544-88a66ccb728a",
   "metadata": {},
   "outputs": [
    {
     "data": {
      "image/png": "[encoded data removed]",
      "text/plain": [
       "<Figure size 640x480 with 1 Axes>"
      ]
     },
     "metadata": {},
     "output_type": "display_data"
    }
   ],
   "source": [
    "# Step 10:\n",
    "#Generate data for visualization\n",
    "X_vis = np.linspace(min(X_train), max(X_train), 100).reshape(-1, 1)\n",
    "y_vis = svr_model.predict(X_vis)\n",
    "\n",
    "# Visualize the SVR predictions, support vectors, and regression function\n",
    "plt.scatter(X_train, y_train, color='black', label='Training Data')\n",
    "plt.scatter(svr_model.support_vectors_, y_train.iloc[svr_model.support_], color='red', marker='x', label='Support Vectors')\n",
    "plt.plot(X_vis, y_vis, color='blue', label='SVR Regression Function')\n",
    "plt.title('SVR: RetailPrice vs CupEquivalentPrice')\n",
    "plt.xlabel('CupEquivalentPrice (Scaled)')\n",
    "plt.ylabel('RetailPrice')\n",
    "plt.legend()\n",
    "plt.show()"
   ]
  },
  {
   "cell_type": "raw",
   "id": "529e0d15-8ed0-4f8a-906a-7b8b491fd714",
   "metadata": {},
   "source": [
    "#Interpretation: This visualization depicts the Support Vector Regression (SVR) model's predictions for RetailPrice based on CupEquivalentPrice. The black dots represent training data, the red 'x' markers highlight support vectors, and the blue line shows the SVR regression function's fit to the data."
   ]
  },
  {
   "cell_type": "markdown",
   "id": "e17f4377-bf49-4f0d-b7e5-478cb4758c1d",
   "metadata": {},
   "source": [
    "# Linear Regression Metrics:"
   ]
  },
  {
   "cell_type": "raw",
   "id": "8fb816eb-f78c-4282-8117-ebdae31bd1de",
   "metadata": {},
   "source": [
    "# \n",
    "1) Mean Squared Error (MSE): 0.6189539159297247\n",
    "The MSE represents the average squared difference between predicted and actual values. In this case, the Linear Regression model's MSE indicates the average squared error in predicting 'RetailPrice' based on 'CupEquivalentPrice.'\n",
    "\n",
    "2) Root Mean Squared Error (RMSE): 0.7867362429237162\n",
    "The RMSE is the square root of MSE, providing a measure of the average magnitude of errors. An RMSE of 0.79 suggests that, on average, the model's predictions are around 0.79 units away from the actual values.\n",
    "\n",
    "3) Mean Absolute Error (MAE): 0.6868631561434799\n",
    "MAE represents the average absolute difference between predicted and actual values. The Linear Regression model has an MAE of 0.69, indicating the average absolute error in predicting 'RetailPrice.'\n",
    "\n",
    "4)R-squared: 0.23071617871956862\n",
    "R-squared measures the proportion of variance in the target variable explained by the model. In this case, the Linear Regression model explains approximately 23% of the variability in 'RetailPrice' based on 'CupEquivalentPrice.'\n",
    "\n",
    "5)Coefficients and Intercept:\n",
    "The coefficient for 'CupEquivalentPrice' is 1.5516, suggesting that, on average, a one-unit increase in 'CupEquivalentPrice' is associated with a 1.55-unit increase in 'RetailPrice.'\n",
    "The intercept (0.7728) represents the expected 'RetailPrice' when 'CupEquivalentPrice' is zero, though this might not have practical relevance in this context."
   ]
  },
  {
   "cell_type": "markdown",
   "id": "ac1700b7-2086-4a9a-8461-02dfa29bdc6d",
   "metadata": {},
   "source": [
    "# Support Vector Regression (SVR) Metrics:"
   ]
  },
  {
   "cell_type": "raw",
   "id": "ca895fc8-ce4c-4e18-8a2f-940942ae14d2",
   "metadata": {},
   "source": [
    "# \n",
    "1) Mean Squared Error (MSE): 0.5902747105585908\n",
    "The SVR model's MSE indicates the average squared error in its predictions. A lower MSE (compared to Linear Regression) suggests that SVR is achieving better accuracy in predicting 'RetailPrice.'\n",
    "\n",
    "2)Root Mean Squared Error (RMSE): 0.7867362429237162\n",
    "The RMSE for SVR is the same as for Linear Regression, indicating a similar average magnitude of errors between the predicted and actual values.\n",
    "\n",
    "3)Mean Absolute Error (MAE): 0.6348300415730124\n",
    "SVR's MAE is lower (better) than Linear Regression, indicating a smaller average absolute error in predicting 'RetailPrice.'\n",
    "\n",
    "4)R-squared: 0.26636091434750686\n",
    "SVR's R-squared of 0.27 is slightly higher than Linear Regression, indicating that SVR explains around 27% of the variability in 'RetailPrice' based on 'CupEquivalentPrice.'\n",
    "\n",
    "5)Support Vectors and Dual Coefficients:\n",
    "Support vectors are specific data points that heavily influence the SVR model. The list provided indicates instances where the model places the hyperplane.\n",
    "Dual coefficients represent the weights assigned to each support vector in determining the position and orientation of the hyperplane."
   ]
  },
  {
   "cell_type": "markdown",
   "id": "385efa65-3503-418d-a997-ea1d10270787",
   "metadata": {},
   "source": [
    "# Detailed Analysis:"
   ]
  },
  {
   "cell_type": "raw",
   "id": "9fb76a06-0ea0-4e5c-af43-6391a188f9f7",
   "metadata": {},
   "source": [
    "#\n",
    "\n",
    "MSE and RMSE: Both models exhibit similar RMSE values, but SVR achieves a slightly lower MSE, suggesting improved accuracy in predictions.\n",
    "\n",
    "MAE: SVR outperforms Linear Regression in terms of MAE, indicating that SVR's predictions are, on average, closer to the actual values.\n",
    "\n",
    "R-squared: SVR has a slightly higher R-squared, indicating that it explains a larger proportion of the variance in 'RetailPrice' compared to Linear Regression.\n",
    "\n",
    "Interpretability: Linear Regression provides clear interpretability with coefficients, making it easy to understand how 'CupEquivalentPrice' influences 'RetailPrice.' SVR, on the other hand, relies on support vectors and dual coefficients, which can be more complex to interpret."
   ]
  },
  {
   "cell_type": "markdown",
   "id": "0da32f4b-1daa-44cb-b618-fef6944923cb",
   "metadata": {},
   "source": [
    " #   Conclusion and Recommendation:"
   ]
  },
  {
   "cell_type": "raw",
   "id": "4586996f-1f0a-45e0-a07b-fe4648581a9e",
   "metadata": {},
   "source": [
    "#\n",
    "1) SVR appears to offer better predictive performance, as indicated by lower MSE and MAE, and a slightly higher R-squared compared to Linear Regression.\n",
    "\n",
    "2)If interpretability is crucial and a linear relationship is reasonable, Linear Regression might still be a viable choice due to its simplicity.\n",
    "\n",
    "3) If the primary goal is accurate prediction and the dataset exhibits nonlinear relationships, SVR could be the preferred choice.\n"
   ]
  }
 ],
 "metadata": {
  "kernelspec": {
   "display_name": "Python 3 (ipykernel)",
   "language": "python",
   "name": "python3"
  },
  "language_info": {
   "codemirror_mode": {
    "name": "ipython",
    "version": 3
   },
   "file_extension": ".py",
   "mimetype": "text/x-python",
   "name": "python",
   "nbconvert_exporter": "python",
   "pygments_lexer": "ipython3",
   "version": "3.11.4"
  }
 },
 "nbformat": 4,
 "nbformat_minor": 5
}
